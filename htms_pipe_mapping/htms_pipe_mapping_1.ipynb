{
 "cells": [
  {
   "cell_type": "code",
   "execution_count": 4,
   "id": "initial_id",
   "metadata": {
    "collapsed": true,
    "ExecuteTime": {
     "end_time": "2024-01-29T09:51:53.301382Z",
     "start_time": "2024-01-29T09:51:53.299916Z"
    }
   },
   "outputs": [],
   "source": [
    "import pandas as pd"
   ]
  },
  {
   "cell_type": "code",
   "outputs": [],
   "source": [
    "pipe_data = pd.read_csv('/Users/gondidi/Desktop/GSPower/HIS/data_analysis/htms_pipe_mapping/data/pipedata_24012417.csv')\n",
    "node_data = pd.read_csv('/Users/gondidi/Desktop/GSPower/HIS/data_analysis/htms_pipe_mapping/data/nodedata_24012417.csv')\n",
    "meta_data = pd.read_csv('/Users/gondidi/Desktop/GSPower/HIS/data_analysis/htms_pipe_mapping/data/link_node_meta.csv')"
   ],
   "metadata": {
    "collapsed": false,
    "ExecuteTime": {
     "end_time": "2024-01-30T01:13:43.754092Z",
     "start_time": "2024-01-30T01:13:43.545328Z"
    }
   },
   "id": "494d616bf11d1119",
   "execution_count": 12
  },
  {
   "cell_type": "code",
   "outputs": [],
   "source": [
    "node_data_1700 = node_data[node_data['dt'] == 202401241700]\n",
    "pipe_data_1700 = pipe_data[pipe_data['dt'] == 202401241700]"
   ],
   "metadata": {
    "collapsed": false,
    "ExecuteTime": {
     "end_time": "2024-01-30T01:13:44.823670Z",
     "start_time": "2024-01-30T01:13:44.793330Z"
    }
   },
   "id": "1ea90abb60b3c7c4",
   "execution_count": 13
  },
  {
   "cell_type": "code",
   "outputs": [
    {
     "data": {
      "text/plain": "                dt     link_id    flow  headloss  velocity       qloss    yy  \\\n0     202401241700  PIPE_31018    0.00       0.0      0.00  408.794253  2024   \n1     202401241700  PIPE_30080   -0.00       0.0      0.00  866.169661  2024   \n2     202401241700  PIPE_30152    0.00       0.0      0.00   30.912133  2024   \n3     202401241700  PIPE_29968    0.00       0.0      0.00  527.752623  2024   \n4     202401241700  PIPE_29971    0.00       0.0      0.00   60.189620  2024   \n...            ...         ...     ...       ...       ...         ...   ...   \n3765  202401241700        V_MG    0.00       0.0      0.00    0.029958  2024   \n3766  202401241700     V_GMINC -556.53       0.0      2.19    0.027380  2024   \n3767  202401241700    V_AYtoSH    0.00       0.0      0.00    0.030216  2024   \n3768  202401241700    V_BCtoSH    0.00       0.0      0.00    0.032312  2024   \n3769  202401241700      V_SHEX    0.00       0.0      0.00    0.028117  2024   \n\n      mm  dd  hh  \n0      1  24  17  \n1      1  24  17  \n2      1  24  17  \n3      1  24  17  \n4      1  24  17  \n...   ..  ..  ..  \n3765   1  24  17  \n3766   1  24  17  \n3767   1  24  17  \n3768   1  24  17  \n3769   1  24  17  \n\n[3770 rows x 10 columns]",
      "text/html": "<div>\n<style scoped>\n    .dataframe tbody tr th:only-of-type {\n        vertical-align: middle;\n    }\n\n    .dataframe tbody tr th {\n        vertical-align: top;\n    }\n\n    .dataframe thead th {\n        text-align: right;\n    }\n</style>\n<table border=\"1\" class=\"dataframe\">\n  <thead>\n    <tr style=\"text-align: right;\">\n      <th></th>\n      <th>dt</th>\n      <th>link_id</th>\n      <th>flow</th>\n      <th>headloss</th>\n      <th>velocity</th>\n      <th>qloss</th>\n      <th>yy</th>\n      <th>mm</th>\n      <th>dd</th>\n      <th>hh</th>\n    </tr>\n  </thead>\n  <tbody>\n    <tr>\n      <th>0</th>\n      <td>202401241700</td>\n      <td>PIPE_31018</td>\n      <td>0.00</td>\n      <td>0.0</td>\n      <td>0.00</td>\n      <td>408.794253</td>\n      <td>2024</td>\n      <td>1</td>\n      <td>24</td>\n      <td>17</td>\n    </tr>\n    <tr>\n      <th>1</th>\n      <td>202401241700</td>\n      <td>PIPE_30080</td>\n      <td>-0.00</td>\n      <td>0.0</td>\n      <td>0.00</td>\n      <td>866.169661</td>\n      <td>2024</td>\n      <td>1</td>\n      <td>24</td>\n      <td>17</td>\n    </tr>\n    <tr>\n      <th>2</th>\n      <td>202401241700</td>\n      <td>PIPE_30152</td>\n      <td>0.00</td>\n      <td>0.0</td>\n      <td>0.00</td>\n      <td>30.912133</td>\n      <td>2024</td>\n      <td>1</td>\n      <td>24</td>\n      <td>17</td>\n    </tr>\n    <tr>\n      <th>3</th>\n      <td>202401241700</td>\n      <td>PIPE_29968</td>\n      <td>0.00</td>\n      <td>0.0</td>\n      <td>0.00</td>\n      <td>527.752623</td>\n      <td>2024</td>\n      <td>1</td>\n      <td>24</td>\n      <td>17</td>\n    </tr>\n    <tr>\n      <th>4</th>\n      <td>202401241700</td>\n      <td>PIPE_29971</td>\n      <td>0.00</td>\n      <td>0.0</td>\n      <td>0.00</td>\n      <td>60.189620</td>\n      <td>2024</td>\n      <td>1</td>\n      <td>24</td>\n      <td>17</td>\n    </tr>\n    <tr>\n      <th>...</th>\n      <td>...</td>\n      <td>...</td>\n      <td>...</td>\n      <td>...</td>\n      <td>...</td>\n      <td>...</td>\n      <td>...</td>\n      <td>...</td>\n      <td>...</td>\n      <td>...</td>\n    </tr>\n    <tr>\n      <th>3765</th>\n      <td>202401241700</td>\n      <td>V_MG</td>\n      <td>0.00</td>\n      <td>0.0</td>\n      <td>0.00</td>\n      <td>0.029958</td>\n      <td>2024</td>\n      <td>1</td>\n      <td>24</td>\n      <td>17</td>\n    </tr>\n    <tr>\n      <th>3766</th>\n      <td>202401241700</td>\n      <td>V_GMINC</td>\n      <td>-556.53</td>\n      <td>0.0</td>\n      <td>2.19</td>\n      <td>0.027380</td>\n      <td>2024</td>\n      <td>1</td>\n      <td>24</td>\n      <td>17</td>\n    </tr>\n    <tr>\n      <th>3767</th>\n      <td>202401241700</td>\n      <td>V_AYtoSH</td>\n      <td>0.00</td>\n      <td>0.0</td>\n      <td>0.00</td>\n      <td>0.030216</td>\n      <td>2024</td>\n      <td>1</td>\n      <td>24</td>\n      <td>17</td>\n    </tr>\n    <tr>\n      <th>3768</th>\n      <td>202401241700</td>\n      <td>V_BCtoSH</td>\n      <td>0.00</td>\n      <td>0.0</td>\n      <td>0.00</td>\n      <td>0.032312</td>\n      <td>2024</td>\n      <td>1</td>\n      <td>24</td>\n      <td>17</td>\n    </tr>\n    <tr>\n      <th>3769</th>\n      <td>202401241700</td>\n      <td>V_SHEX</td>\n      <td>0.00</td>\n      <td>0.0</td>\n      <td>0.00</td>\n      <td>0.028117</td>\n      <td>2024</td>\n      <td>1</td>\n      <td>24</td>\n      <td>17</td>\n    </tr>\n  </tbody>\n</table>\n<p>3770 rows × 10 columns</p>\n</div>"
     },
     "execution_count": 14,
     "metadata": {},
     "output_type": "execute_result"
    }
   ],
   "source": [
    "pipe_data_1700"
   ],
   "metadata": {
    "collapsed": false,
    "ExecuteTime": {
     "end_time": "2024-01-30T01:13:45.020901Z",
     "start_time": "2024-01-30T01:13:45.015578Z"
    }
   },
   "id": "2670f616899e89e5",
   "execution_count": 14
  },
  {
   "cell_type": "code",
   "outputs": [],
   "source": [
    "meta_data['link_id'] = meta_data['link_id'].str.strip()"
   ],
   "metadata": {
    "collapsed": false,
    "ExecuteTime": {
     "end_time": "2024-01-30T01:18:21.638190Z",
     "start_time": "2024-01-30T01:18:21.633035Z"
    }
   },
   "id": "30aaa4bd07c5a074",
   "execution_count": 23
  },
  {
   "cell_type": "code",
   "outputs": [],
   "source": [
    "merged_df = pd.merge(pipe_data_1700, meta_data, on=['link_id'])"
   ],
   "metadata": {
    "collapsed": false,
    "ExecuteTime": {
     "end_time": "2024-01-30T01:19:05.725821Z",
     "start_time": "2024-01-30T01:19:05.719243Z"
    }
   },
   "id": "1301b7837c335bb3",
   "execution_count": 25
  },
  {
   "cell_type": "code",
   "outputs": [
    {
     "data": {
      "text/plain": "                dt     link_id    flow  headloss  velocity       qloss    yy  \\\n0     202401241700  PIPE_31018    0.00       0.0      0.00  408.794253  2024   \n1     202401241700  PIPE_30080   -0.00       0.0      0.00  866.169661  2024   \n2     202401241700  PIPE_30152    0.00       0.0      0.00   30.912133  2024   \n3     202401241700  PIPE_29968    0.00       0.0      0.00  527.752623  2024   \n4     202401241700  PIPE_29971    0.00       0.0      0.00   60.189620  2024   \n...            ...         ...     ...       ...       ...         ...   ...   \n3765  202401241700        V_MG    0.00       0.0      0.00    0.029958  2024   \n3766  202401241700     V_GMINC -556.53       0.0      2.19    0.027380  2024   \n3767  202401241700    V_AYtoSH    0.00       0.0      0.00    0.030216  2024   \n3768  202401241700    V_BCtoSH    0.00       0.0      0.00    0.032312  2024   \n3769  202401241700      V_SHEX    0.00       0.0      0.00    0.028117  2024   \n\n      mm  dd  hh  Node1             Node2             \n0      1  24  17  A1                A836              \n1      1  24  17  A2                A2044             \n2      1  24  17  A5                A6                \n3      1  24  17  A7                A8                \n4      1  24  17  A1509             A7                \n...   ..  ..  ..               ...               ...  \n3765   1  24  17  AMGPR             A3491             \n3766   1  24  17  AGMtoSCR          AGMB2B            \n3767   1  24  17  A3002             A3003             \n3768   1  24  17  ASH               A3003             \n3769   1  24  17  A3002             AAYtoBC           \n\n[3770 rows x 12 columns]",
      "text/html": "<div>\n<style scoped>\n    .dataframe tbody tr th:only-of-type {\n        vertical-align: middle;\n    }\n\n    .dataframe tbody tr th {\n        vertical-align: top;\n    }\n\n    .dataframe thead th {\n        text-align: right;\n    }\n</style>\n<table border=\"1\" class=\"dataframe\">\n  <thead>\n    <tr style=\"text-align: right;\">\n      <th></th>\n      <th>dt</th>\n      <th>link_id</th>\n      <th>flow</th>\n      <th>headloss</th>\n      <th>velocity</th>\n      <th>qloss</th>\n      <th>yy</th>\n      <th>mm</th>\n      <th>dd</th>\n      <th>hh</th>\n      <th>Node1</th>\n      <th>Node2</th>\n    </tr>\n  </thead>\n  <tbody>\n    <tr>\n      <th>0</th>\n      <td>202401241700</td>\n      <td>PIPE_31018</td>\n      <td>0.00</td>\n      <td>0.0</td>\n      <td>0.00</td>\n      <td>408.794253</td>\n      <td>2024</td>\n      <td>1</td>\n      <td>24</td>\n      <td>17</td>\n      <td>A1</td>\n      <td>A836</td>\n    </tr>\n    <tr>\n      <th>1</th>\n      <td>202401241700</td>\n      <td>PIPE_30080</td>\n      <td>-0.00</td>\n      <td>0.0</td>\n      <td>0.00</td>\n      <td>866.169661</td>\n      <td>2024</td>\n      <td>1</td>\n      <td>24</td>\n      <td>17</td>\n      <td>A2</td>\n      <td>A2044</td>\n    </tr>\n    <tr>\n      <th>2</th>\n      <td>202401241700</td>\n      <td>PIPE_30152</td>\n      <td>0.00</td>\n      <td>0.0</td>\n      <td>0.00</td>\n      <td>30.912133</td>\n      <td>2024</td>\n      <td>1</td>\n      <td>24</td>\n      <td>17</td>\n      <td>A5</td>\n      <td>A6</td>\n    </tr>\n    <tr>\n      <th>3</th>\n      <td>202401241700</td>\n      <td>PIPE_29968</td>\n      <td>0.00</td>\n      <td>0.0</td>\n      <td>0.00</td>\n      <td>527.752623</td>\n      <td>2024</td>\n      <td>1</td>\n      <td>24</td>\n      <td>17</td>\n      <td>A7</td>\n      <td>A8</td>\n    </tr>\n    <tr>\n      <th>4</th>\n      <td>202401241700</td>\n      <td>PIPE_29971</td>\n      <td>0.00</td>\n      <td>0.0</td>\n      <td>0.00</td>\n      <td>60.189620</td>\n      <td>2024</td>\n      <td>1</td>\n      <td>24</td>\n      <td>17</td>\n      <td>A1509</td>\n      <td>A7</td>\n    </tr>\n    <tr>\n      <th>...</th>\n      <td>...</td>\n      <td>...</td>\n      <td>...</td>\n      <td>...</td>\n      <td>...</td>\n      <td>...</td>\n      <td>...</td>\n      <td>...</td>\n      <td>...</td>\n      <td>...</td>\n      <td>...</td>\n      <td>...</td>\n    </tr>\n    <tr>\n      <th>3765</th>\n      <td>202401241700</td>\n      <td>V_MG</td>\n      <td>0.00</td>\n      <td>0.0</td>\n      <td>0.00</td>\n      <td>0.029958</td>\n      <td>2024</td>\n      <td>1</td>\n      <td>24</td>\n      <td>17</td>\n      <td>AMGPR</td>\n      <td>A3491</td>\n    </tr>\n    <tr>\n      <th>3766</th>\n      <td>202401241700</td>\n      <td>V_GMINC</td>\n      <td>-556.53</td>\n      <td>0.0</td>\n      <td>2.19</td>\n      <td>0.027380</td>\n      <td>2024</td>\n      <td>1</td>\n      <td>24</td>\n      <td>17</td>\n      <td>AGMtoSCR</td>\n      <td>AGMB2B</td>\n    </tr>\n    <tr>\n      <th>3767</th>\n      <td>202401241700</td>\n      <td>V_AYtoSH</td>\n      <td>0.00</td>\n      <td>0.0</td>\n      <td>0.00</td>\n      <td>0.030216</td>\n      <td>2024</td>\n      <td>1</td>\n      <td>24</td>\n      <td>17</td>\n      <td>A3002</td>\n      <td>A3003</td>\n    </tr>\n    <tr>\n      <th>3768</th>\n      <td>202401241700</td>\n      <td>V_BCtoSH</td>\n      <td>0.00</td>\n      <td>0.0</td>\n      <td>0.00</td>\n      <td>0.032312</td>\n      <td>2024</td>\n      <td>1</td>\n      <td>24</td>\n      <td>17</td>\n      <td>ASH</td>\n      <td>A3003</td>\n    </tr>\n    <tr>\n      <th>3769</th>\n      <td>202401241700</td>\n      <td>V_SHEX</td>\n      <td>0.00</td>\n      <td>0.0</td>\n      <td>0.00</td>\n      <td>0.028117</td>\n      <td>2024</td>\n      <td>1</td>\n      <td>24</td>\n      <td>17</td>\n      <td>A3002</td>\n      <td>AAYtoBC</td>\n    </tr>\n  </tbody>\n</table>\n<p>3770 rows × 12 columns</p>\n</div>"
     },
     "execution_count": 26,
     "metadata": {},
     "output_type": "execute_result"
    }
   ],
   "source": [
    "merged_df"
   ],
   "metadata": {
    "collapsed": false,
    "ExecuteTime": {
     "end_time": "2024-01-30T01:19:13.722974Z",
     "start_time": "2024-01-30T01:19:13.719042Z"
    }
   },
   "id": "67f0720aa08af771",
   "execution_count": 26
  },
  {
   "cell_type": "code",
   "outputs": [],
   "source": [],
   "metadata": {
    "collapsed": false
   },
   "id": "f38a6c08d05e798e"
  }
 ],
 "metadata": {
  "kernelspec": {
   "display_name": "Python 3",
   "language": "python",
   "name": "python3"
  },
  "language_info": {
   "codemirror_mode": {
    "name": "ipython",
    "version": 2
   },
   "file_extension": ".py",
   "mimetype": "text/x-python",
   "name": "python",
   "nbconvert_exporter": "python",
   "pygments_lexer": "ipython2",
   "version": "2.7.6"
  }
 },
 "nbformat": 4,
 "nbformat_minor": 5
}
